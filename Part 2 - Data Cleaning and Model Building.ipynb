{
 "cells": [
  {
   "cell_type": "markdown",
   "id": "92e37d51",
   "metadata": {},
   "source": [
    "- [ ] **Date**: Create *Year* and *Month* columns from *Date*. Drop the *Date* column.\n",
    "- [ ] **Year**: Compute mean of *Fuel_Price* by year and impute with the year the *Fuel_price* is the closest to the mean\n",
    "- [ ] **Month**: Compute mean of *Tempurature* by month and impute with the month the *Tempurature* is the closest to the mean\n",
    "- [ ] **Store**: Nothing.\n",
    "- [ ] **Temperature**: Impute missing values with the mean of the temprature of the observation month\n",
    "- [ ] **Fuel_Price**: Impute missing values with the mean between the closest inferior and superior date\n",
    "- [ ] **CPI**: Imputing the missing data by the mean between the closest before and after date of the store\n",
    "- [ ] **Unemployment**: Impute with the median\n",
    "- [ ] **Weekly_Sales**: Drop missing values"
   ]
  },
  {
   "cell_type": "markdown",
   "id": "271f569b",
   "metadata": {},
   "source": [
    "## Part 2 & 3 : Preprocessing and model\n",
    "\n",
    "This notebook is divided in 4 sections :\n",
    "- Preprocessing with Pandas\n",
    "- Preprocessing witn Scikitlearn\n",
    "- Baseline model\n",
    "- Regularisation"
   ]
  },
  {
   "cell_type": "code",
   "execution_count": 1,
   "id": "a7849978",
   "metadata": {},
   "outputs": [],
   "source": [
    "# Import libraries\n",
    "import pandas as pd\n",
    "import numpy as np\n",
    "import matplotlib.pyplot as plt\n",
    "import seaborn as sns\n",
    "sns.set_style(\"darkgrid\")\n",
    "\n",
    "from sklearn.model_selection import train_test_split, GridSearchCV\n",
    "from sklearn.impute import SimpleImputer\n",
    "from sklearn.preprocessing import  OneHotEncoder, StandardScaler\n",
    "from sklearn.compose import ColumnTransformer\n",
    "from sklearn.linear_model import LinearRegression, Ridge, Lasso\n",
    "from sklearn.metrics import r2_score"
   ]
  },
  {
   "cell_type": "code",
   "execution_count": 2,
   "id": "cb0e604c",
   "metadata": {},
   "outputs": [
    {
     "data": {
      "text/html": [
       "<div>\n",
       "<style scoped>\n",
       "    .dataframe tbody tr th:only-of-type {\n",
       "        vertical-align: middle;\n",
       "    }\n",
       "\n",
       "    .dataframe tbody tr th {\n",
       "        vertical-align: top;\n",
       "    }\n",
       "\n",
       "    .dataframe thead th {\n",
       "        text-align: right;\n",
       "    }\n",
       "</style>\n",
       "<table border=\"1\" class=\"dataframe\">\n",
       "  <thead>\n",
       "    <tr style=\"text-align: right;\">\n",
       "      <th></th>\n",
       "      <th>Store</th>\n",
       "      <th>Date</th>\n",
       "      <th>Weekly_Sales</th>\n",
       "      <th>Holiday_Flag</th>\n",
       "      <th>Temperature</th>\n",
       "      <th>Fuel_Price</th>\n",
       "      <th>CPI</th>\n",
       "      <th>Unemployment</th>\n",
       "    </tr>\n",
       "  </thead>\n",
       "  <tbody>\n",
       "    <tr>\n",
       "      <th>0</th>\n",
       "      <td>6.0</td>\n",
       "      <td>18-02-2011</td>\n",
       "      <td>1572117.54</td>\n",
       "      <td>NaN</td>\n",
       "      <td>59.61</td>\n",
       "      <td>3.045</td>\n",
       "      <td>214.777523</td>\n",
       "      <td>6.858</td>\n",
       "    </tr>\n",
       "    <tr>\n",
       "      <th>1</th>\n",
       "      <td>13.0</td>\n",
       "      <td>25-03-2011</td>\n",
       "      <td>1807545.43</td>\n",
       "      <td>0.0</td>\n",
       "      <td>42.38</td>\n",
       "      <td>3.435</td>\n",
       "      <td>128.616064</td>\n",
       "      <td>7.470</td>\n",
       "    </tr>\n",
       "    <tr>\n",
       "      <th>2</th>\n",
       "      <td>17.0</td>\n",
       "      <td>27-07-2012</td>\n",
       "      <td>NaN</td>\n",
       "      <td>0.0</td>\n",
       "      <td>NaN</td>\n",
       "      <td>NaN</td>\n",
       "      <td>130.719581</td>\n",
       "      <td>5.936</td>\n",
       "    </tr>\n",
       "    <tr>\n",
       "      <th>3</th>\n",
       "      <td>11.0</td>\n",
       "      <td>NaN</td>\n",
       "      <td>1244390.03</td>\n",
       "      <td>0.0</td>\n",
       "      <td>84.57</td>\n",
       "      <td>NaN</td>\n",
       "      <td>214.556497</td>\n",
       "      <td>7.346</td>\n",
       "    </tr>\n",
       "    <tr>\n",
       "      <th>4</th>\n",
       "      <td>6.0</td>\n",
       "      <td>28-05-2010</td>\n",
       "      <td>1644470.66</td>\n",
       "      <td>0.0</td>\n",
       "      <td>78.89</td>\n",
       "      <td>2.759</td>\n",
       "      <td>212.412888</td>\n",
       "      <td>7.092</td>\n",
       "    </tr>\n",
       "  </tbody>\n",
       "</table>\n",
       "</div>"
      ],
      "text/plain": [
       "   Store        Date  Weekly_Sales  Holiday_Flag  Temperature  Fuel_Price  \\\n",
       "0    6.0  18-02-2011    1572117.54           NaN        59.61       3.045   \n",
       "1   13.0  25-03-2011    1807545.43           0.0        42.38       3.435   \n",
       "2   17.0  27-07-2012           NaN           0.0          NaN         NaN   \n",
       "3   11.0         NaN    1244390.03           0.0        84.57         NaN   \n",
       "4    6.0  28-05-2010    1644470.66           0.0        78.89       2.759   \n",
       "\n",
       "          CPI  Unemployment  \n",
       "0  214.777523         6.858  \n",
       "1  128.616064         7.470  \n",
       "2  130.719581         5.936  \n",
       "3  214.556497         7.346  \n",
       "4  212.412888         7.092  "
      ]
     },
     "execution_count": 2,
     "metadata": {},
     "output_type": "execute_result"
    }
   ],
   "source": [
    "# Import data\n",
    "data_before_imputation = pd.read_csv('Walmart_Store_sales.csv')\n",
    "# Just working on a copy of the dataset to later compare basic statistics between both datasets\n",
    "data = data_before_imputation.copy()\n",
    "data_before_imputation.head()"
   ]
  },
  {
   "cell_type": "markdown",
   "id": "57bbc99a",
   "metadata": {
    "tags": []
   },
   "source": [
    "### 1. Preprocessing in Pandas \n",
    "In this section, we will preprocess the data impute the missing data based on the work done during the EDA in the first notebook\n",
    "\n",
    "#### 1.1 Date\n",
    "\n",
    "- [x] Create *Year* and *Month* columns from *Date*. Drop the *Date* column.\n",
    "- [x] Compute mean of *Fuel_Price* by year and impute with the year the *Fuel_price* is the closest to the mean\n",
    "- [x] Compute mean of *Tempurature* by month and impute with the month the *Temperature* is the closest to the mean"
   ]
  },
  {
   "cell_type": "code",
   "execution_count": 3,
   "id": "88bc8c39",
   "metadata": {},
   "outputs": [
    {
     "data": {
      "text/html": [
       "<div>\n",
       "<style scoped>\n",
       "    .dataframe tbody tr th:only-of-type {\n",
       "        vertical-align: middle;\n",
       "    }\n",
       "\n",
       "    .dataframe tbody tr th {\n",
       "        vertical-align: top;\n",
       "    }\n",
       "\n",
       "    .dataframe thead th {\n",
       "        text-align: right;\n",
       "    }\n",
       "</style>\n",
       "<table border=\"1\" class=\"dataframe\">\n",
       "  <thead>\n",
       "    <tr style=\"text-align: right;\">\n",
       "      <th></th>\n",
       "      <th>Store</th>\n",
       "      <th>Weekly_Sales</th>\n",
       "      <th>Holiday_Flag</th>\n",
       "      <th>Temperature</th>\n",
       "      <th>Fuel_Price</th>\n",
       "      <th>CPI</th>\n",
       "      <th>Unemployment</th>\n",
       "      <th>Year</th>\n",
       "      <th>Month</th>\n",
       "    </tr>\n",
       "  </thead>\n",
       "  <tbody>\n",
       "    <tr>\n",
       "      <th>0</th>\n",
       "      <td>6.0</td>\n",
       "      <td>1572117.54</td>\n",
       "      <td>NaN</td>\n",
       "      <td>59.61</td>\n",
       "      <td>3.045</td>\n",
       "      <td>214.777523</td>\n",
       "      <td>6.858</td>\n",
       "      <td>2011</td>\n",
       "      <td>2</td>\n",
       "    </tr>\n",
       "    <tr>\n",
       "      <th>1</th>\n",
       "      <td>13.0</td>\n",
       "      <td>1807545.43</td>\n",
       "      <td>0.0</td>\n",
       "      <td>42.38</td>\n",
       "      <td>3.435</td>\n",
       "      <td>128.616064</td>\n",
       "      <td>7.470</td>\n",
       "      <td>2011</td>\n",
       "      <td>3</td>\n",
       "    </tr>\n",
       "    <tr>\n",
       "      <th>2</th>\n",
       "      <td>17.0</td>\n",
       "      <td>NaN</td>\n",
       "      <td>0.0</td>\n",
       "      <td>NaN</td>\n",
       "      <td>NaN</td>\n",
       "      <td>130.719581</td>\n",
       "      <td>5.936</td>\n",
       "      <td>2012</td>\n",
       "      <td>7</td>\n",
       "    </tr>\n",
       "    <tr>\n",
       "      <th>3</th>\n",
       "      <td>11.0</td>\n",
       "      <td>1244390.03</td>\n",
       "      <td>0.0</td>\n",
       "      <td>84.57</td>\n",
       "      <td>NaN</td>\n",
       "      <td>214.556497</td>\n",
       "      <td>7.346</td>\n",
       "      <td>&lt;NA&gt;</td>\n",
       "      <td>&lt;NA&gt;</td>\n",
       "    </tr>\n",
       "    <tr>\n",
       "      <th>4</th>\n",
       "      <td>6.0</td>\n",
       "      <td>1644470.66</td>\n",
       "      <td>0.0</td>\n",
       "      <td>78.89</td>\n",
       "      <td>2.759</td>\n",
       "      <td>212.412888</td>\n",
       "      <td>7.092</td>\n",
       "      <td>2010</td>\n",
       "      <td>5</td>\n",
       "    </tr>\n",
       "  </tbody>\n",
       "</table>\n",
       "</div>"
      ],
      "text/plain": [
       "   Store  Weekly_Sales  Holiday_Flag  Temperature  Fuel_Price         CPI  \\\n",
       "0    6.0    1572117.54           NaN        59.61       3.045  214.777523   \n",
       "1   13.0    1807545.43           0.0        42.38       3.435  128.616064   \n",
       "2   17.0           NaN           0.0          NaN         NaN  130.719581   \n",
       "3   11.0    1244390.03           0.0        84.57         NaN  214.556497   \n",
       "4    6.0    1644470.66           0.0        78.89       2.759  212.412888   \n",
       "\n",
       "   Unemployment  Year  Month  \n",
       "0         6.858  2011      2  \n",
       "1         7.470  2011      3  \n",
       "2         5.936  2012      7  \n",
       "3         7.346  <NA>   <NA>  \n",
       "4         7.092  2010      5  "
      ]
     },
     "execution_count": 3,
     "metadata": {},
     "output_type": "execute_result"
    }
   ],
   "source": [
    "# Cast Date to Datetime type\n",
    "data['Date'] = pd.to_datetime(data['Date'], format='%d-%m-%Y')\n",
    "\n",
    "# Extract Year and Month\n",
    "data['Year'] = data['Date'].dt.year.astype('Int64')\n",
    "data['Month'] = data['Date'].dt.month.astype('Int64')\n",
    "\n",
    "# Drop Date column\n",
    "data.drop(columns=['Date'], axis=0, inplace=True)\n",
    "\n",
    "data.head()"
   ]
  },
  {
   "cell_type": "code",
   "execution_count": 4,
   "id": "c2e42068",
   "metadata": {},
   "outputs": [
    {
     "data": {
      "text/plain": [
       "Year\n",
       "2010    2.791915\n",
       "2011    3.553780\n",
       "2012    3.729000\n",
       "Name: Fuel_Price, dtype: float64"
      ]
     },
     "execution_count": 4,
     "metadata": {},
     "output_type": "execute_result"
    }
   ],
   "source": [
    "## YEAR\n",
    "# Calculate the average fuel price per year\n",
    "avg_fuelprice_year = data.groupby(by='Year').mean()['Fuel_Price']\n",
    "avg_fuelprice_year"
   ]
  },
  {
   "cell_type": "code",
   "execution_count": 6,
   "id": "552cd3b6-2ff9-4379-8d71-32e02d7474de",
   "metadata": {},
   "outputs": [
    {
     "data": {
      "text/html": [
       "<div>\n",
       "<style scoped>\n",
       "    .dataframe tbody tr th:only-of-type {\n",
       "        vertical-align: middle;\n",
       "    }\n",
       "\n",
       "    .dataframe tbody tr th {\n",
       "        vertical-align: top;\n",
       "    }\n",
       "\n",
       "    .dataframe thead th {\n",
       "        text-align: right;\n",
       "    }\n",
       "</style>\n",
       "<table border=\"1\" class=\"dataframe\">\n",
       "  <thead>\n",
       "    <tr style=\"text-align: right;\">\n",
       "      <th></th>\n",
       "      <th>Store</th>\n",
       "      <th>Weekly_Sales</th>\n",
       "      <th>Holiday_Flag</th>\n",
       "      <th>Temperature</th>\n",
       "      <th>Fuel_Price</th>\n",
       "      <th>CPI</th>\n",
       "      <th>Unemployment</th>\n",
       "      <th>Year</th>\n",
       "      <th>Month</th>\n",
       "    </tr>\n",
       "  </thead>\n",
       "  <tbody>\n",
       "    <tr>\n",
       "      <th>9</th>\n",
       "      <td>3.0</td>\n",
       "      <td>418925.47</td>\n",
       "      <td>0.0</td>\n",
       "      <td>60.12</td>\n",
       "      <td>3.555</td>\n",
       "      <td>224.132020</td>\n",
       "      <td>6.833</td>\n",
       "      <td>&lt;NA&gt;</td>\n",
       "      <td>&lt;NA&gt;</td>\n",
       "    </tr>\n",
       "    <tr>\n",
       "      <th>17</th>\n",
       "      <td>18.0</td>\n",
       "      <td>1205307.50</td>\n",
       "      <td>0.0</td>\n",
       "      <td>21.33</td>\n",
       "      <td>2.788</td>\n",
       "      <td>131.527903</td>\n",
       "      <td>9.202</td>\n",
       "      <td>&lt;NA&gt;</td>\n",
       "      <td>&lt;NA&gt;</td>\n",
       "    </tr>\n",
       "    <tr>\n",
       "      <th>34</th>\n",
       "      <td>2.0</td>\n",
       "      <td>1853161.99</td>\n",
       "      <td>0.0</td>\n",
       "      <td>87.70</td>\n",
       "      <td>3.480</td>\n",
       "      <td>214.929625</td>\n",
       "      <td>NaN</td>\n",
       "      <td>&lt;NA&gt;</td>\n",
       "      <td>&lt;NA&gt;</td>\n",
       "    </tr>\n",
       "    <tr>\n",
       "      <th>42</th>\n",
       "      <td>1.0</td>\n",
       "      <td>1661767.33</td>\n",
       "      <td>1.0</td>\n",
       "      <td>NaN</td>\n",
       "      <td>3.730</td>\n",
       "      <td>222.439015</td>\n",
       "      <td>6.908</td>\n",
       "      <td>&lt;NA&gt;</td>\n",
       "      <td>&lt;NA&gt;</td>\n",
       "    </tr>\n",
       "    <tr>\n",
       "      <th>65</th>\n",
       "      <td>10.0</td>\n",
       "      <td>1714309.90</td>\n",
       "      <td>NaN</td>\n",
       "      <td>43.43</td>\n",
       "      <td>3.287</td>\n",
       "      <td>127.191774</td>\n",
       "      <td>8.744</td>\n",
       "      <td>&lt;NA&gt;</td>\n",
       "      <td>&lt;NA&gt;</td>\n",
       "    </tr>\n",
       "  </tbody>\n",
       "</table>\n",
       "</div>"
      ],
      "text/plain": [
       "    Store  Weekly_Sales  Holiday_Flag  Temperature  Fuel_Price         CPI  \\\n",
       "9     3.0     418925.47           0.0        60.12       3.555  224.132020   \n",
       "17   18.0    1205307.50           0.0        21.33       2.788  131.527903   \n",
       "34    2.0    1853161.99           0.0        87.70       3.480  214.929625   \n",
       "42    1.0    1661767.33           1.0          NaN       3.730  222.439015   \n",
       "65   10.0    1714309.90           NaN        43.43       3.287  127.191774   \n",
       "\n",
       "    Unemployment  Year  Month  \n",
       "9          6.833  <NA>   <NA>  \n",
       "17         9.202  <NA>   <NA>  \n",
       "34           NaN  <NA>   <NA>  \n",
       "42         6.908  <NA>   <NA>  \n",
       "65         8.744  <NA>   <NA>  "
      ]
     },
     "execution_count": 6,
     "metadata": {},
     "output_type": "execute_result"
    }
   ],
   "source": [
    "mask = data['Year'].isnull() & data['Fuel_Price'].notnull()\n",
    "data[mask].head()"
   ]
  },
  {
   "cell_type": "code",
   "execution_count": 9,
   "id": "3dcb928a-d02d-4396-a7b6-bb2e37adf0c1",
   "metadata": {},
   "outputs": [
    {
     "data": {
      "text/plain": [
       "Year\n",
       "2010   -0.763085\n",
       "2011   -0.001220\n",
       "2012    0.174000\n",
       "Name: Fuel_Price, dtype: float64"
      ]
     },
     "execution_count": 9,
     "metadata": {},
     "output_type": "execute_result"
    }
   ],
   "source": [
    "# Substract the avg_fuelprice_year by the fuel price of the row, here 3.555\n",
    "avg_fuelprice_year.sub(3.555)"
   ]
  },
  {
   "cell_type": "code",
   "execution_count": 10,
   "id": "74c5cee5-86d5-4fa0-9b3a-63471cf0e51a",
   "metadata": {},
   "outputs": [
    {
     "data": {
      "text/plain": [
       "Year\n",
       "2010   -0.763085\n",
       "2011   -0.001220\n",
       "2012    0.174000\n",
       "Name: Fuel_Price, dtype: float64"
      ]
     },
     "execution_count": 10,
     "metadata": {},
     "output_type": "execute_result"
    }
   ],
   "source": [
    "# equivalent to:\n",
    "avg_fuelprice_year - 3.555"
   ]
  },
  {
   "cell_type": "code",
   "execution_count": 12,
   "id": "7c664f6f-62df-41f1-8303-faf0afc0b916",
   "metadata": {},
   "outputs": [
    {
     "data": {
      "text/plain": [
       "Year\n",
       "2010    0.763085\n",
       "2011    0.001220\n",
       "2012    0.174000\n",
       "Name: Fuel_Price, dtype: float64"
      ]
     },
     "execution_count": 12,
     "metadata": {},
     "output_type": "execute_result"
    }
   ],
   "source": [
    "# Take the absolute value\n",
    "avg_fuelprice_year.sub(3.555).abs()"
   ]
  },
  {
   "cell_type": "code",
   "execution_count": 13,
   "id": "bae5f6e1-98fd-4c71-b355-3ab454697311",
   "metadata": {},
   "outputs": [
    {
     "data": {
      "text/plain": [
       "2011"
      ]
     },
     "execution_count": 13,
     "metadata": {},
     "output_type": "execute_result"
    }
   ],
   "source": [
    "# Find the index with the smallest value\n",
    "avg_fuelprice_year.sub(3.555).abs().idxmin()"
   ]
  },
  {
   "cell_type": "code",
   "execution_count": 8,
   "id": "83bf8725-8d90-478b-9fcd-3bac7866c6ff",
   "metadata": {},
   "outputs": [
    {
     "data": {
      "text/plain": [
       "2010"
      ]
     },
     "execution_count": 8,
     "metadata": {},
     "output_type": "execute_result"
    }
   ],
   "source": [
    "avg_fuelprice_year.sub(2.788).abs().idxmin()"
   ]
  },
  {
   "cell_type": "code",
   "execution_count": 7,
   "id": "53d8de4d",
   "metadata": {},
   "outputs": [],
   "source": [
    "# Add the year the average fuel price is the closest to the observation fuel price\n",
    "mask = data['Year'].isnull() & data['Fuel_Price'].notnull()\n",
    "data.loc[mask, 'Year'] = data.loc[mask, 'Fuel_Price'].apply(lambda x :avg_fuelprice_year.sub(x).abs().idxmin())\n",
    "\n",
    "# Fill the remaining missing values with the most frequent value in the dataset (only one row will be affected)\n",
    "data['Year'].fillna(data['Year'].mode().iloc[0], inplace=True)"
   ]
  },
  {
   "cell_type": "code",
   "execution_count": 9,
   "id": "ac42a193",
   "metadata": {},
   "outputs": [
    {
     "data": {
      "text/plain": [
       "Month\n",
       "1     43.946667\n",
       "2     39.904545\n",
       "3     47.935455\n",
       "4     53.723333\n",
       "5     63.460000\n",
       "6     76.079231\n",
       "7     79.721538\n",
       "8     79.536000\n",
       "9     73.710000\n",
       "10    62.631111\n",
       "11    61.255714\n",
       "12    38.804444\n",
       "Name: Temperature, dtype: float64"
      ]
     },
     "execution_count": 9,
     "metadata": {},
     "output_type": "execute_result"
    }
   ],
   "source": [
    "## MONTH\n",
    "# Calculate the average temperature by month\n",
    "avg_temperature_month = data.groupby(by='Month').mean()['Temperature']\n",
    "avg_temperature_month"
   ]
  },
  {
   "cell_type": "code",
   "execution_count": 10,
   "id": "86d81c9a",
   "metadata": {},
   "outputs": [],
   "source": [
    "# Add the month the average temperature is the closest to the observation temperature\n",
    "mask = data['Month'].isnull() & data['Temperature'].notnull()\n",
    "data.loc[mask, 'Month'] = data.loc[mask, 'Temperature'].apply(lambda x :avg_temperature_month.sub(x).abs().idxmin())\n",
    "\n",
    "# Fill the remaining missing values with the most frequent value in the dataset (4 will be affected)\n",
    "data['Month'].fillna(data['Month'].mode().iloc[0], inplace=True)"
   ]
  },
  {
   "cell_type": "markdown",
   "id": "23e26a2a",
   "metadata": {},
   "source": [
    "#### 1.2 Store\n",
    "- [x] Cast the Store id to Int"
   ]
  },
  {
   "cell_type": "code",
   "execution_count": 15,
   "id": "c75a764b",
   "metadata": {},
   "outputs": [],
   "source": [
    "#### STORE\n",
    "data['Store'] = data['Store'].astype('Int64')"
   ]
  },
  {
   "cell_type": "markdown",
   "id": "10035608",
   "metadata": {},
   "source": [
    "#### 1.3 Temperature\n",
    "- [x] Impute missing values with the mean of the temprature of the observation month"
   ]
  },
  {
   "cell_type": "code",
   "execution_count": 16,
   "id": "dd1e03ef",
   "metadata": {},
   "outputs": [],
   "source": [
    "## Temperature\n",
    "# Fill with the average temperature of the observation month\n",
    "mask = data['Temperature'].isnull()\n",
    "data.loc[mask, 'Temperature'] = data.loc[mask, 'Month'].apply(lambda x : round(avg_temperature_month[x],2))"
   ]
  },
  {
   "cell_type": "markdown",
   "id": "fdda2473",
   "metadata": {},
   "source": [
    "#### 1.4 Fuel\n",
    "- [x] Impute missing values with the average fuel price of the year"
   ]
  },
  {
   "cell_type": "code",
   "execution_count": 18,
   "id": "29e9b615",
   "metadata": {},
   "outputs": [],
   "source": [
    "## Fuel price\n",
    "mask = data['Fuel_Price'].isnull()\n",
    "data.loc[mask, 'Fuel_Price'] = data.loc[mask, 'Year'].apply(lambda x : round(avg_fuelprice_year[x],3))"
   ]
  },
  {
   "cell_type": "markdown",
   "id": "b30a5857",
   "metadata": {},
   "source": [
    "#### 1.5 CPI\n",
    "- [x] Impute missing values with the mean CPI of the store"
   ]
  },
  {
   "cell_type": "code",
   "execution_count": 21,
   "id": "a983eff2",
   "metadata": {},
   "outputs": [
    {
     "data": {
      "text/plain": [
       "Store\n",
       "1     216.368313\n",
       "2     214.769437\n",
       "3     220.115306\n",
       "4     128.196148\n",
       "5     216.905432\n",
       "6     215.902088\n",
       "7     195.319489\n",
       "8     216.373831\n",
       "9     215.001735\n",
       "10    128.162431\n",
       "11    217.844972\n",
       "12    128.060487\n",
       "13    129.041653\n",
       "14    185.325833\n",
       "15    134.987597\n",
       "16    194.473622\n",
       "17    128.331461\n",
       "18    134.888911\n",
       "19    135.319093\n",
       "20    209.187937\n",
       "Name: CPI, dtype: float64"
      ]
     },
     "execution_count": 21,
     "metadata": {},
     "output_type": "execute_result"
    }
   ],
   "source": [
    "## CPI\n",
    "# Calculate the average CPI per Store\n",
    "avg_cpi_store = data.groupby(by='Store').mean()['CPI']\n",
    "avg_cpi_store"
   ]
  },
  {
   "cell_type": "code",
   "execution_count": 22,
   "id": "d8c0477b",
   "metadata": {},
   "outputs": [],
   "source": [
    "mask = data['CPI'].isnull()\n",
    "data.loc[mask, 'CPI'] = data.loc[mask, 'Store'].apply(lambda x : avg_cpi_store[x])"
   ]
  },
  {
   "cell_type": "markdown",
   "id": "c5284a15",
   "metadata": {},
   "source": [
    "#### 1.6 Unemployment\n",
    "- [x] Impute missing values with the median"
   ]
  },
  {
   "cell_type": "code",
   "execution_count": 25,
   "id": "d778f1f5",
   "metadata": {},
   "outputs": [],
   "source": [
    "## Uemployment\n",
    "data['Unemployment'].fillna(data['Unemployment'].median(), inplace=True)"
   ]
  },
  {
   "cell_type": "markdown",
   "id": "035f2ded",
   "metadata": {},
   "source": [
    "#### 1.7 Holiday flag\n",
    "- [x] Impute missing values with 0"
   ]
  },
  {
   "cell_type": "code",
   "execution_count": 26,
   "id": "f546a230",
   "metadata": {},
   "outputs": [],
   "source": [
    "##  Holiday Flag\n",
    "data['Holiday_Flag'] = data['Holiday_Flag'].astype('Int64')\n",
    "data['Holiday_Flag'].fillna(0, inplace=True)"
   ]
  },
  {
   "cell_type": "markdown",
   "id": "7e01f412",
   "metadata": {},
   "source": [
    "#### 1.8 Weekly sales\n",
    "- [x] Drop observations with null values"
   ]
  },
  {
   "cell_type": "code",
   "execution_count": 27,
   "id": "673661fd",
   "metadata": {},
   "outputs": [],
   "source": [
    "## Weekly Sales\n",
    "data.dropna(subset=['Weekly_Sales'], inplace=True)"
   ]
  },
  {
   "cell_type": "markdown",
   "id": "dc009277",
   "metadata": {},
   "source": [
    "#### 1.9 Sanity check\n",
    "Just checking that there are no missing values left and that the preprocessing did not affect too much the basics stattistics of our dataset"
   ]
  },
  {
   "cell_type": "code",
   "execution_count": 28,
   "id": "ec52042b",
   "metadata": {},
   "outputs": [
    {
     "name": "stdout",
     "output_type": "stream",
     "text": [
      "<class 'pandas.core.frame.DataFrame'>\n",
      "Int64Index: 136 entries, 0 to 149\n",
      "Data columns (total 9 columns):\n",
      " #   Column        Non-Null Count  Dtype  \n",
      "---  ------        --------------  -----  \n",
      " 0   Store         136 non-null    Int64  \n",
      " 1   Weekly_Sales  136 non-null    float64\n",
      " 2   Holiday_Flag  136 non-null    Int64  \n",
      " 3   Temperature   136 non-null    float64\n",
      " 4   Fuel_Price    136 non-null    float64\n",
      " 5   CPI           136 non-null    float64\n",
      " 6   Unemployment  136 non-null    float64\n",
      " 7   Year          136 non-null    Int64  \n",
      " 8   Month         136 non-null    Int64  \n",
      "dtypes: Int64(4), float64(5)\n",
      "memory usage: 11.2 KB\n"
     ]
    }
   ],
   "source": [
    "data.info()"
   ]
  },
  {
   "cell_type": "code",
   "execution_count": 29,
   "id": "093142ea",
   "metadata": {},
   "outputs": [
    {
     "data": {
      "text/html": [
       "<div>\n",
       "<style scoped>\n",
       "    .dataframe tbody tr th:only-of-type {\n",
       "        vertical-align: middle;\n",
       "    }\n",
       "\n",
       "    .dataframe tbody tr th {\n",
       "        vertical-align: top;\n",
       "    }\n",
       "\n",
       "    .dataframe thead th {\n",
       "        text-align: right;\n",
       "    }\n",
       "</style>\n",
       "<table border=\"1\" class=\"dataframe\">\n",
       "  <thead>\n",
       "    <tr style=\"text-align: right;\">\n",
       "      <th></th>\n",
       "      <th>Store</th>\n",
       "      <th>Weekly_Sales</th>\n",
       "      <th>Holiday_Flag</th>\n",
       "      <th>Temperature</th>\n",
       "      <th>Fuel_Price</th>\n",
       "      <th>CPI</th>\n",
       "      <th>Unemployment</th>\n",
       "    </tr>\n",
       "  </thead>\n",
       "  <tbody>\n",
       "    <tr>\n",
       "      <th>count</th>\n",
       "      <td>150.000000</td>\n",
       "      <td>1.360000e+02</td>\n",
       "      <td>138.000000</td>\n",
       "      <td>132.000000</td>\n",
       "      <td>136.000000</td>\n",
       "      <td>138.000000</td>\n",
       "      <td>135.000000</td>\n",
       "    </tr>\n",
       "    <tr>\n",
       "      <th>mean</th>\n",
       "      <td>9.866667</td>\n",
       "      <td>1.249536e+06</td>\n",
       "      <td>0.079710</td>\n",
       "      <td>61.398106</td>\n",
       "      <td>3.320853</td>\n",
       "      <td>179.898509</td>\n",
       "      <td>7.598430</td>\n",
       "    </tr>\n",
       "    <tr>\n",
       "      <th>std</th>\n",
       "      <td>6.231191</td>\n",
       "      <td>6.474630e+05</td>\n",
       "      <td>0.271831</td>\n",
       "      <td>18.378901</td>\n",
       "      <td>0.478149</td>\n",
       "      <td>40.274956</td>\n",
       "      <td>1.577173</td>\n",
       "    </tr>\n",
       "    <tr>\n",
       "      <th>min</th>\n",
       "      <td>1.000000</td>\n",
       "      <td>2.689290e+05</td>\n",
       "      <td>0.000000</td>\n",
       "      <td>18.790000</td>\n",
       "      <td>2.514000</td>\n",
       "      <td>126.111903</td>\n",
       "      <td>5.143000</td>\n",
       "    </tr>\n",
       "    <tr>\n",
       "      <th>25%</th>\n",
       "      <td>4.000000</td>\n",
       "      <td>6.050757e+05</td>\n",
       "      <td>0.000000</td>\n",
       "      <td>45.587500</td>\n",
       "      <td>2.852250</td>\n",
       "      <td>131.970831</td>\n",
       "      <td>6.597500</td>\n",
       "    </tr>\n",
       "    <tr>\n",
       "      <th>50%</th>\n",
       "      <td>9.000000</td>\n",
       "      <td>1.261424e+06</td>\n",
       "      <td>0.000000</td>\n",
       "      <td>62.985000</td>\n",
       "      <td>3.451000</td>\n",
       "      <td>197.908893</td>\n",
       "      <td>7.470000</td>\n",
       "    </tr>\n",
       "    <tr>\n",
       "      <th>75%</th>\n",
       "      <td>15.750000</td>\n",
       "      <td>1.806386e+06</td>\n",
       "      <td>0.000000</td>\n",
       "      <td>76.345000</td>\n",
       "      <td>3.706250</td>\n",
       "      <td>214.934616</td>\n",
       "      <td>8.150000</td>\n",
       "    </tr>\n",
       "    <tr>\n",
       "      <th>max</th>\n",
       "      <td>20.000000</td>\n",
       "      <td>2.771397e+06</td>\n",
       "      <td>1.000000</td>\n",
       "      <td>91.650000</td>\n",
       "      <td>4.193000</td>\n",
       "      <td>226.968844</td>\n",
       "      <td>14.313000</td>\n",
       "    </tr>\n",
       "  </tbody>\n",
       "</table>\n",
       "</div>"
      ],
      "text/plain": [
       "            Store  Weekly_Sales  Holiday_Flag  Temperature  Fuel_Price  \\\n",
       "count  150.000000  1.360000e+02    138.000000   132.000000  136.000000   \n",
       "mean     9.866667  1.249536e+06      0.079710    61.398106    3.320853   \n",
       "std      6.231191  6.474630e+05      0.271831    18.378901    0.478149   \n",
       "min      1.000000  2.689290e+05      0.000000    18.790000    2.514000   \n",
       "25%      4.000000  6.050757e+05      0.000000    45.587500    2.852250   \n",
       "50%      9.000000  1.261424e+06      0.000000    62.985000    3.451000   \n",
       "75%     15.750000  1.806386e+06      0.000000    76.345000    3.706250   \n",
       "max     20.000000  2.771397e+06      1.000000    91.650000    4.193000   \n",
       "\n",
       "              CPI  Unemployment  \n",
       "count  138.000000    135.000000  \n",
       "mean   179.898509      7.598430  \n",
       "std     40.274956      1.577173  \n",
       "min    126.111903      5.143000  \n",
       "25%    131.970831      6.597500  \n",
       "50%    197.908893      7.470000  \n",
       "75%    214.934616      8.150000  \n",
       "max    226.968844     14.313000  "
      ]
     },
     "execution_count": 29,
     "metadata": {},
     "output_type": "execute_result"
    }
   ],
   "source": [
    "data_before_imputation.describe()"
   ]
  },
  {
   "cell_type": "code",
   "execution_count": 30,
   "id": "a0dac410",
   "metadata": {},
   "outputs": [
    {
     "data": {
      "text/html": [
       "<div>\n",
       "<style scoped>\n",
       "    .dataframe tbody tr th:only-of-type {\n",
       "        vertical-align: middle;\n",
       "    }\n",
       "\n",
       "    .dataframe tbody tr th {\n",
       "        vertical-align: top;\n",
       "    }\n",
       "\n",
       "    .dataframe thead th {\n",
       "        text-align: right;\n",
       "    }\n",
       "</style>\n",
       "<table border=\"1\" class=\"dataframe\">\n",
       "  <thead>\n",
       "    <tr style=\"text-align: right;\">\n",
       "      <th></th>\n",
       "      <th>Store</th>\n",
       "      <th>Weekly_Sales</th>\n",
       "      <th>Holiday_Flag</th>\n",
       "      <th>Temperature</th>\n",
       "      <th>Fuel_Price</th>\n",
       "      <th>CPI</th>\n",
       "      <th>Unemployment</th>\n",
       "      <th>Year</th>\n",
       "      <th>Month</th>\n",
       "    </tr>\n",
       "  </thead>\n",
       "  <tbody>\n",
       "    <tr>\n",
       "      <th>count</th>\n",
       "      <td>136.000000</td>\n",
       "      <td>1.360000e+02</td>\n",
       "      <td>136.000000</td>\n",
       "      <td>136.000000</td>\n",
       "      <td>136.000000</td>\n",
       "      <td>136.000000</td>\n",
       "      <td>136.000000</td>\n",
       "      <td>136.000000</td>\n",
       "      <td>136.000000</td>\n",
       "    </tr>\n",
       "    <tr>\n",
       "      <th>mean</th>\n",
       "      <td>10.014706</td>\n",
       "      <td>1.249536e+06</td>\n",
       "      <td>0.066176</td>\n",
       "      <td>61.764559</td>\n",
       "      <td>3.302544</td>\n",
       "      <td>178.449559</td>\n",
       "      <td>7.645449</td>\n",
       "      <td>2010.860294</td>\n",
       "      <td>6.463235</td>\n",
       "    </tr>\n",
       "    <tr>\n",
       "      <th>std</th>\n",
       "      <td>6.124614</td>\n",
       "      <td>6.474630e+05</td>\n",
       "      <td>0.249509</td>\n",
       "      <td>18.066654</td>\n",
       "      <td>0.477706</td>\n",
       "      <td>39.800240</td>\n",
       "      <td>1.534320</td>\n",
       "      <td>0.818063</td>\n",
       "      <td>3.150328</td>\n",
       "    </tr>\n",
       "    <tr>\n",
       "      <th>min</th>\n",
       "      <td>1.000000</td>\n",
       "      <td>2.689290e+05</td>\n",
       "      <td>0.000000</td>\n",
       "      <td>18.790000</td>\n",
       "      <td>2.514000</td>\n",
       "      <td>126.111903</td>\n",
       "      <td>5.143000</td>\n",
       "      <td>2010.000000</td>\n",
       "      <td>1.000000</td>\n",
       "    </tr>\n",
       "    <tr>\n",
       "      <th>25%</th>\n",
       "      <td>4.000000</td>\n",
       "      <td>6.050757e+05</td>\n",
       "      <td>0.000000</td>\n",
       "      <td>47.252500</td>\n",
       "      <td>2.804000</td>\n",
       "      <td>131.806597</td>\n",
       "      <td>6.833000</td>\n",
       "      <td>2010.000000</td>\n",
       "      <td>4.000000</td>\n",
       "    </tr>\n",
       "    <tr>\n",
       "      <th>50%</th>\n",
       "      <td>10.000000</td>\n",
       "      <td>1.261424e+06</td>\n",
       "      <td>0.000000</td>\n",
       "      <td>63.460000</td>\n",
       "      <td>3.390500</td>\n",
       "      <td>194.849563</td>\n",
       "      <td>7.470000</td>\n",
       "      <td>2011.000000</td>\n",
       "      <td>6.500000</td>\n",
       "    </tr>\n",
       "    <tr>\n",
       "      <th>75%</th>\n",
       "      <td>15.250000</td>\n",
       "      <td>1.806386e+06</td>\n",
       "      <td>0.000000</td>\n",
       "      <td>76.660000</td>\n",
       "      <td>3.723750</td>\n",
       "      <td>214.809008</td>\n",
       "      <td>8.100750</td>\n",
       "      <td>2012.000000</td>\n",
       "      <td>9.000000</td>\n",
       "    </tr>\n",
       "    <tr>\n",
       "      <th>max</th>\n",
       "      <td>20.000000</td>\n",
       "      <td>2.771397e+06</td>\n",
       "      <td>1.000000</td>\n",
       "      <td>91.650000</td>\n",
       "      <td>4.193000</td>\n",
       "      <td>226.968844</td>\n",
       "      <td>14.313000</td>\n",
       "      <td>2012.000000</td>\n",
       "      <td>12.000000</td>\n",
       "    </tr>\n",
       "  </tbody>\n",
       "</table>\n",
       "</div>"
      ],
      "text/plain": [
       "            Store  Weekly_Sales  Holiday_Flag  Temperature  Fuel_Price  \\\n",
       "count  136.000000  1.360000e+02    136.000000   136.000000  136.000000   \n",
       "mean    10.014706  1.249536e+06      0.066176    61.764559    3.302544   \n",
       "std      6.124614  6.474630e+05      0.249509    18.066654    0.477706   \n",
       "min      1.000000  2.689290e+05      0.000000    18.790000    2.514000   \n",
       "25%      4.000000  6.050757e+05      0.000000    47.252500    2.804000   \n",
       "50%     10.000000  1.261424e+06      0.000000    63.460000    3.390500   \n",
       "75%     15.250000  1.806386e+06      0.000000    76.660000    3.723750   \n",
       "max     20.000000  2.771397e+06      1.000000    91.650000    4.193000   \n",
       "\n",
       "              CPI  Unemployment         Year       Month  \n",
       "count  136.000000    136.000000   136.000000  136.000000  \n",
       "mean   178.449559      7.645449  2010.860294    6.463235  \n",
       "std     39.800240      1.534320     0.818063    3.150328  \n",
       "min    126.111903      5.143000  2010.000000    1.000000  \n",
       "25%    131.806597      6.833000  2010.000000    4.000000  \n",
       "50%    194.849563      7.470000  2011.000000    6.500000  \n",
       "75%    214.809008      8.100750  2012.000000    9.000000  \n",
       "max    226.968844     14.313000  2012.000000   12.000000  "
      ]
     },
     "execution_count": 30,
     "metadata": {},
     "output_type": "execute_result"
    }
   ],
   "source": [
    "data.describe()"
   ]
  },
  {
   "cell_type": "markdown",
   "id": "b38e374f",
   "metadata": {},
   "source": [
    "### 2. Preprocessing with Scikitlearn \n",
    "In this section, we will continue the preprocessing using Scikitlearn :\n",
    "- [x] Split dataset between features and target\n",
    "- [x] Split dataset in train et test sets\n",
    "- [x] Standardize the numerical features\n",
    "- [x] Do a OneHotEncoding on the categorical features"
   ]
  },
  {
   "cell_type": "code",
   "execution_count": 65,
   "id": "4cea720c",
   "metadata": {},
   "outputs": [
    {
     "data": {
      "text/html": [
       "<div>\n",
       "<style scoped>\n",
       "    .dataframe tbody tr th:only-of-type {\n",
       "        vertical-align: middle;\n",
       "    }\n",
       "\n",
       "    .dataframe tbody tr th {\n",
       "        vertical-align: top;\n",
       "    }\n",
       "\n",
       "    .dataframe thead th {\n",
       "        text-align: right;\n",
       "    }\n",
       "</style>\n",
       "<table border=\"1\" class=\"dataframe\">\n",
       "  <thead>\n",
       "    <tr style=\"text-align: right;\">\n",
       "      <th></th>\n",
       "      <th>Store</th>\n",
       "      <th>Holiday_Flag</th>\n",
       "      <th>Temperature</th>\n",
       "      <th>Fuel_Price</th>\n",
       "      <th>CPI</th>\n",
       "      <th>Unemployment</th>\n",
       "      <th>Year</th>\n",
       "      <th>Month</th>\n",
       "    </tr>\n",
       "  </thead>\n",
       "  <tbody>\n",
       "    <tr>\n",
       "      <th>0</th>\n",
       "      <td>6</td>\n",
       "      <td>0</td>\n",
       "      <td>59.61</td>\n",
       "      <td>3.045</td>\n",
       "      <td>214.777523</td>\n",
       "      <td>6.858</td>\n",
       "      <td>2011</td>\n",
       "      <td>2</td>\n",
       "    </tr>\n",
       "    <tr>\n",
       "      <th>1</th>\n",
       "      <td>13</td>\n",
       "      <td>0</td>\n",
       "      <td>42.38</td>\n",
       "      <td>3.435</td>\n",
       "      <td>128.616064</td>\n",
       "      <td>7.470</td>\n",
       "      <td>2011</td>\n",
       "      <td>3</td>\n",
       "    </tr>\n",
       "    <tr>\n",
       "      <th>3</th>\n",
       "      <td>11</td>\n",
       "      <td>0</td>\n",
       "      <td>84.57</td>\n",
       "      <td>2.792</td>\n",
       "      <td>214.556497</td>\n",
       "      <td>7.346</td>\n",
       "      <td>2010</td>\n",
       "      <td>7</td>\n",
       "    </tr>\n",
       "    <tr>\n",
       "      <th>4</th>\n",
       "      <td>6</td>\n",
       "      <td>0</td>\n",
       "      <td>78.89</td>\n",
       "      <td>2.759</td>\n",
       "      <td>212.412888</td>\n",
       "      <td>7.092</td>\n",
       "      <td>2010</td>\n",
       "      <td>5</td>\n",
       "    </tr>\n",
       "    <tr>\n",
       "      <th>5</th>\n",
       "      <td>4</td>\n",
       "      <td>0</td>\n",
       "      <td>63.46</td>\n",
       "      <td>2.756</td>\n",
       "      <td>126.160226</td>\n",
       "      <td>7.896</td>\n",
       "      <td>2010</td>\n",
       "      <td>5</td>\n",
       "    </tr>\n",
       "  </tbody>\n",
       "</table>\n",
       "</div>"
      ],
      "text/plain": [
       "   Store  Holiday_Flag  Temperature  Fuel_Price         CPI  Unemployment  \\\n",
       "0      6             0        59.61       3.045  214.777523         6.858   \n",
       "1     13             0        42.38       3.435  128.616064         7.470   \n",
       "3     11             0        84.57       2.792  214.556497         7.346   \n",
       "4      6             0        78.89       2.759  212.412888         7.092   \n",
       "5      4             0        63.46       2.756  126.160226         7.896   \n",
       "\n",
       "   Year  Month  \n",
       "0  2011      2  \n",
       "1  2011      3  \n",
       "3  2010      7  \n",
       "4  2010      5  \n",
       "5  2010      5  "
      ]
     },
     "execution_count": 65,
     "metadata": {},
     "output_type": "execute_result"
    }
   ],
   "source": [
    "# Separate target variable y from features X\n",
    "X = data.loc[:,data.columns != 'Weekly_Sales']\n",
    "X.head()"
   ]
  },
  {
   "cell_type": "code",
   "execution_count": 66,
   "id": "96c384fe",
   "metadata": {},
   "outputs": [
    {
     "data": {
      "text/html": [
       "<div>\n",
       "<style scoped>\n",
       "    .dataframe tbody tr th:only-of-type {\n",
       "        vertical-align: middle;\n",
       "    }\n",
       "\n",
       "    .dataframe tbody tr th {\n",
       "        vertical-align: top;\n",
       "    }\n",
       "\n",
       "    .dataframe thead th {\n",
       "        text-align: right;\n",
       "    }\n",
       "</style>\n",
       "<table border=\"1\" class=\"dataframe\">\n",
       "  <thead>\n",
       "    <tr style=\"text-align: right;\">\n",
       "      <th></th>\n",
       "      <th>Weekly_Sales</th>\n",
       "    </tr>\n",
       "  </thead>\n",
       "  <tbody>\n",
       "    <tr>\n",
       "      <th>0</th>\n",
       "      <td>1572117.54</td>\n",
       "    </tr>\n",
       "    <tr>\n",
       "      <th>1</th>\n",
       "      <td>1807545.43</td>\n",
       "    </tr>\n",
       "    <tr>\n",
       "      <th>3</th>\n",
       "      <td>1244390.03</td>\n",
       "    </tr>\n",
       "    <tr>\n",
       "      <th>4</th>\n",
       "      <td>1644470.66</td>\n",
       "    </tr>\n",
       "    <tr>\n",
       "      <th>5</th>\n",
       "      <td>1857533.70</td>\n",
       "    </tr>\n",
       "  </tbody>\n",
       "</table>\n",
       "</div>"
      ],
      "text/plain": [
       "   Weekly_Sales\n",
       "0    1572117.54\n",
       "1    1807545.43\n",
       "3    1244390.03\n",
       "4    1644470.66\n",
       "5    1857533.70"
      ]
     },
     "execution_count": 66,
     "metadata": {},
     "output_type": "execute_result"
    }
   ],
   "source": [
    "y = data.loc[:, data.columns == 'Weekly_Sales']\n",
    "y.head()            "
   ]
  },
  {
   "cell_type": "code",
   "execution_count": 67,
   "id": "40f0d46c",
   "metadata": {},
   "outputs": [],
   "source": [
    "# Divide dataset Train set & Test set \n",
    "X_train, X_test, y_train, y_test = train_test_split(X, y, test_size=0.2, random_state=0)"
   ]
  },
  {
   "cell_type": "code",
   "execution_count": 68,
   "id": "e8bb3736",
   "metadata": {},
   "outputs": [],
   "source": [
    "#### Data proprocessing\n",
    "# List the indices for categorical and numerical features\n",
    "categorical_indices = [0,1]\n",
    "numeric_indices=[2,3,4,5,6,7]\n",
    "\n",
    "## Prepare transformers\n",
    "# Normalization\n",
    "numeric_transformer = StandardScaler()\n",
    "\n",
    "# OHE / dummyfication\n",
    "categorical_transformer = OneHotEncoder(drop='first', sparse=False)\n",
    "\n",
    "## Combine the transformers into a single object\n",
    "featureencoder = ColumnTransformer(\n",
    "    transformers=[\n",
    "        ('cat', categorical_transformer, categorical_indices),    \n",
    "        ('num', numeric_transformer, numeric_indices)\n",
    "        ]\n",
    "    )\n",
    "\n",
    "## Apply the transformaters\n",
    "# Fit and transform on X_train\n",
    "X_train = featureencoder.fit_transform(X_train)\n",
    "\n",
    "# Transform on X_test\n",
    "X_test = featureencoder.transform(X_test)"
   ]
  },
  {
   "cell_type": "markdown",
   "id": "0928d99b",
   "metadata": {},
   "source": [
    "### 3. Baseline model\n",
    "Let's train a simple linear regression and see how our model perfom."
   ]
  },
  {
   "cell_type": "code",
   "execution_count": 69,
   "id": "9f081349",
   "metadata": {},
   "outputs": [
    {
     "data": {
      "text/plain": [
       "LinearRegression()"
      ]
     },
     "execution_count": 69,
     "metadata": {},
     "output_type": "execute_result"
    }
   ],
   "source": [
    "# Train the model\n",
    "regressor = LinearRegression()\n",
    "regressor.fit(X_train, y_train)"
   ]
  },
  {
   "cell_type": "code",
   "execution_count": 70,
   "id": "deb72a60",
   "metadata": {},
   "outputs": [
    {
     "name": "stdout",
     "output_type": "stream",
     "text": [
      "The score on the train set is 0.9701625127332628\n",
      "The score on the train set is 0.9298261156695665\n"
     ]
    }
   ],
   "source": [
    "print(f'The score on the train set is {regressor.score(X_train, y_train)}')\n",
    "print(f'The score on the train set is {regressor.score(X_test, y_test)}')"
   ]
  },
  {
   "cell_type": "markdown",
   "id": "30341591",
   "metadata": {},
   "source": [
    "Our score is pretty good. However the model seems to overfit as the score on the train set is superior to the test set.\n",
    "When we look at the feature importance, we can see that what impacts the more our model is the **Store** and the **CPI**"
   ]
  },
  {
   "cell_type": "code",
   "execution_count": 71,
   "id": "c8260dc6",
   "metadata": {},
   "outputs": [
    {
     "data": {
      "text/html": [
       "<div>\n",
       "<style scoped>\n",
       "    .dataframe tbody tr th:only-of-type {\n",
       "        vertical-align: middle;\n",
       "    }\n",
       "\n",
       "    .dataframe tbody tr th {\n",
       "        vertical-align: top;\n",
       "    }\n",
       "\n",
       "    .dataframe thead th {\n",
       "        text-align: right;\n",
       "    }\n",
       "</style>\n",
       "<table border=\"1\" class=\"dataframe\">\n",
       "  <thead>\n",
       "    <tr style=\"text-align: right;\">\n",
       "      <th></th>\n",
       "      <th>Feature</th>\n",
       "      <th>Coeff</th>\n",
       "    </tr>\n",
       "  </thead>\n",
       "  <tbody>\n",
       "    <tr>\n",
       "      <th>3</th>\n",
       "      <td>Store_5</td>\n",
       "      <td>-1339196.99</td>\n",
       "    </tr>\n",
       "    <tr>\n",
       "      <th>1</th>\n",
       "      <td>Store_3</td>\n",
       "      <td>-1203599.04</td>\n",
       "    </tr>\n",
       "    <tr>\n",
       "      <th>2</th>\n",
       "      <td>Store_4</td>\n",
       "      <td>1176496.98</td>\n",
       "    </tr>\n",
       "    <tr>\n",
       "      <th>8</th>\n",
       "      <td>Store_10</td>\n",
       "      <td>1085368.28</td>\n",
       "    </tr>\n",
       "    <tr>\n",
       "      <th>11</th>\n",
       "      <td>Store_13</td>\n",
       "      <td>1076524.25</td>\n",
       "    </tr>\n",
       "    <tr>\n",
       "      <th>7</th>\n",
       "      <td>Store_9</td>\n",
       "      <td>-1071755.45</td>\n",
       "    </tr>\n",
       "    <tr>\n",
       "      <th>14</th>\n",
       "      <td>Store_16</td>\n",
       "      <td>-949526.25</td>\n",
       "    </tr>\n",
       "    <tr>\n",
       "      <th>5</th>\n",
       "      <td>Store_7</td>\n",
       "      <td>-928076.26</td>\n",
       "    </tr>\n",
       "    <tr>\n",
       "      <th>6</th>\n",
       "      <td>Store_8</td>\n",
       "      <td>-764933.50</td>\n",
       "    </tr>\n",
       "    <tr>\n",
       "      <th>12</th>\n",
       "      <td>Store_14</td>\n",
       "      <td>753928.72</td>\n",
       "    </tr>\n",
       "    <tr>\n",
       "      <th>17</th>\n",
       "      <td>Store_19</td>\n",
       "      <td>481349.96</td>\n",
       "    </tr>\n",
       "    <tr>\n",
       "      <th>18</th>\n",
       "      <td>Store_20</td>\n",
       "      <td>475375.95</td>\n",
       "    </tr>\n",
       "    <tr>\n",
       "      <th>0</th>\n",
       "      <td>Store_2</td>\n",
       "      <td>432126.34</td>\n",
       "    </tr>\n",
       "    <tr>\n",
       "      <th>10</th>\n",
       "      <td>Store_12</td>\n",
       "      <td>391919.33</td>\n",
       "    </tr>\n",
       "    <tr>\n",
       "      <th>22</th>\n",
       "      <td>CPI</td>\n",
       "      <td>316419.23</td>\n",
       "    </tr>\n",
       "    <tr>\n",
       "      <th>13</th>\n",
       "      <td>Store_15</td>\n",
       "      <td>-263841.01</td>\n",
       "    </tr>\n",
       "    <tr>\n",
       "      <th>16</th>\n",
       "      <td>Store_18</td>\n",
       "      <td>186168.65</td>\n",
       "    </tr>\n",
       "    <tr>\n",
       "      <th>9</th>\n",
       "      <td>Store_11</td>\n",
       "      <td>-140197.05</td>\n",
       "    </tr>\n",
       "    <tr>\n",
       "      <th>15</th>\n",
       "      <td>Store_17</td>\n",
       "      <td>-114132.42</td>\n",
       "    </tr>\n",
       "    <tr>\n",
       "      <th>19</th>\n",
       "      <td>Holiday_1</td>\n",
       "      <td>76371.26</td>\n",
       "    </tr>\n",
       "    <tr>\n",
       "      <th>25</th>\n",
       "      <td>Month</td>\n",
       "      <td>75941.71</td>\n",
       "    </tr>\n",
       "    <tr>\n",
       "      <th>23</th>\n",
       "      <td>Unemployment</td>\n",
       "      <td>-74933.25</td>\n",
       "    </tr>\n",
       "    <tr>\n",
       "      <th>4</th>\n",
       "      <td>Store_6</td>\n",
       "      <td>70631.58</td>\n",
       "    </tr>\n",
       "    <tr>\n",
       "      <th>20</th>\n",
       "      <td>Temperature</td>\n",
       "      <td>-70206.50</td>\n",
       "    </tr>\n",
       "    <tr>\n",
       "      <th>24</th>\n",
       "      <td>Year</td>\n",
       "      <td>-43153.61</td>\n",
       "    </tr>\n",
       "    <tr>\n",
       "      <th>21</th>\n",
       "      <td>Fuel_Price</td>\n",
       "      <td>3525.07</td>\n",
       "    </tr>\n",
       "  </tbody>\n",
       "</table>\n",
       "</div>"
      ],
      "text/plain": [
       "         Feature       Coeff\n",
       "3        Store_5 -1339196.99\n",
       "1        Store_3 -1203599.04\n",
       "2        Store_4  1176496.98\n",
       "8       Store_10  1085368.28\n",
       "11      Store_13  1076524.25\n",
       "7        Store_9 -1071755.45\n",
       "14      Store_16  -949526.25\n",
       "5        Store_7  -928076.26\n",
       "6        Store_8  -764933.50\n",
       "12      Store_14   753928.72\n",
       "17      Store_19   481349.96\n",
       "18      Store_20   475375.95\n",
       "0        Store_2   432126.34\n",
       "10      Store_12   391919.33\n",
       "22           CPI   316419.23\n",
       "13      Store_15  -263841.01\n",
       "16      Store_18   186168.65\n",
       "9       Store_11  -140197.05\n",
       "15      Store_17  -114132.42\n",
       "19     Holiday_1    76371.26\n",
       "25         Month    75941.71\n",
       "23  Unemployment   -74933.25\n",
       "4        Store_6    70631.58\n",
       "20   Temperature   -70206.50\n",
       "24          Year   -43153.61\n",
       "21    Fuel_Price     3525.07"
      ]
     },
     "execution_count": 71,
     "metadata": {},
     "output_type": "execute_result"
    }
   ],
   "source": [
    "# Recreate the list of features seen by the model\n",
    "ohe_cat = featureencoder.named_transformers_['cat'].categories_\n",
    "store_features = ['Store_' + str(element) for element in ohe_cat[0][1:]]\n",
    "holiday_flag_features = ['Holiday_' + str(element) for element in ohe_cat[1][1:]]\n",
    "num_features = list(featureencoder.named_transformers_['num'].feature_names_in_)\n",
    "features = store_features + holiday_flag_features + num_features\n",
    "\n",
    "coeff = pd.DataFrame({'Feature' : store_features + holiday_flag_features + num_features, 'Coeff' : np.around(regressor.coef_[0],2)})\n",
    "coeff.sort_values(by='Coeff', key=abs, ascending=False)"
   ]
  },
  {
   "cell_type": "code",
   "execution_count": 72,
   "id": "86ee5bd9",
   "metadata": {},
   "outputs": [
    {
     "data": {
      "text/plain": [
       "<AxesSubplot:xlabel='Coeff', ylabel='Feature'>"
      ]
     },
     "execution_count": 72,
     "metadata": {},
     "output_type": "execute_result"
    },
    {
     "data": {
      "image/png": "[encoded data removed]",
      "text/plain": [
       "<Figure size 720x720 with 1 Axes>"
      ]
     },
     "metadata": {},
     "output_type": "display_data"
    }
   ],
   "source": [
    "plt.figure(figsize=(10, 10))\n",
    "sns.barplot(y=\"Feature\", x=\"Coeff\",  data=coeff.sort_values(by='Coeff', key=abs, ascending=False))"
   ]
  },
  {
   "cell_type": "markdown",
   "id": "023121e6",
   "metadata": {},
   "source": [
    "### 3. Regularization\n",
    "In this section, we will try to fight the overfitting by using the Ridge and Lasso models and see which on perform best on our model.\n",
    "\n",
    "#### 3.1 Ridge"
   ]
  },
  {
   "cell_type": "code",
   "execution_count": 73,
   "id": "4497889c",
   "metadata": {},
   "outputs": [
    {
     "name": "stdout",
     "output_type": "stream",
     "text": [
      "Best hyperparameters :  {'alpha': 0.075}\n",
      "Best R2 score :  0.9360243287399067\n"
     ]
    }
   ],
   "source": [
    "ridge_regressor = Ridge()\n",
    "\n",
    "# Grid of values to be tested\n",
    "params = {\n",
    "    'alpha': [0.0, 0.025,  0.05, 0.075, 0.1] # 0 corresponds to no regularization\n",
    "}\n",
    "\n",
    "gridsearch_ridge = GridSearchCV(ridge_regressor, param_grid = params, cv = 3) # cv : the number of folds to be used for CV\n",
    "gridsearch_ridge.fit(X_train, y_train)\n",
    "\n",
    "print(\"Best hyperparameters : \", gridsearch_ridge.best_params_)\n",
    "print(\"Best R2 score : \", gridsearch_ridge.best_score_)"
   ]
  },
  {
   "cell_type": "code",
   "execution_count": 74,
   "id": "f61f33ab",
   "metadata": {},
   "outputs": [
    {
     "name": "stdout",
     "output_type": "stream",
     "text": [
      "R2 score on training set :  0.9692939213219883\n",
      "R2 score on test set :  0.9297099266383906\n"
     ]
    }
   ],
   "source": [
    "y_train_pred_ridge = gridsearch_ridge.predict(X_train)\n",
    "y_test_pred_ridge = gridsearch_ridge.predict(X_test)\n",
    "\n",
    "print(\"R2 score on training set : \", r2_score(y_train, y_train_pred_ridge))\n",
    "print(\"R2 score on test set : \", r2_score(y_test, y_test_pred_ridge))"
   ]
  },
  {
   "cell_type": "markdown",
   "id": "b254d70c",
   "metadata": {},
   "source": [
    "#### 3.2 Lasso"
   ]
  },
  {
   "cell_type": "code",
   "execution_count": 75,
   "id": "52e3c0c2",
   "metadata": {},
   "outputs": [
    {
     "name": "stdout",
     "output_type": "stream",
     "text": [
      "Best hyperparameters :  {'alpha': 650}\n",
      "Best R2 score :  0.938348346719749\n"
     ]
    }
   ],
   "source": [
    "params = {'alpha' : [550, 575,600,625,650]}\n",
    "lasso_regressor = Lasso(max_iter = 10000)\n",
    "gridsearch_lasso = GridSearchCV(lasso_regressor,param_grid = params, cv=3)\n",
    "\n",
    "gridsearch_lasso.fit(X_train,y_train)\n",
    "\n",
    "print(\"Best hyperparameters : \", gridsearch_lasso.best_params_)\n",
    "print(\"Best R2 score : \", gridsearch_lasso.best_score_)"
   ]
  },
  {
   "cell_type": "code",
   "execution_count": 76,
   "id": "39a79c3f",
   "metadata": {},
   "outputs": [
    {
     "name": "stdout",
     "output_type": "stream",
     "text": [
      "R2 score on training set :  0.9692041603936895\n",
      "R2 score on test set :  0.936721411832944\n"
     ]
    }
   ],
   "source": [
    "y_train_pred_lasso = gridsearch_lasso.predict(X_train)\n",
    "y_test_pred_lasso = gridsearch_lasso.predict(X_test)\n",
    "\n",
    "print(\"R2 score on training set : \", r2_score(y_train, y_train_pred_lasso))\n",
    "print(\"R2 score on test set : \", r2_score(y_test, y_test_pred_lasso))"
   ]
  },
  {
   "cell_type": "markdown",
   "id": "8486b122",
   "metadata": {},
   "source": [
    "#### 3.2 Conclusion\n",
    "The Lasso regularization with **alpha = 650** helps reducizing the overfitting of our model. We barely lost any accuracy on our train set and increase  the accuracy on the test set by"
   ]
  },
  {
   "cell_type": "code",
   "execution_count": null,
   "id": "27766a68",
   "metadata": {},
   "outputs": [],
   "source": []
  }
 ],
 "metadata": {
  "kernelspec": {
   "display_name": "Python 3 (ipykernel)",
   "language": "python",
   "name": "python3"
  },
  "language_info": {
   "codemirror_mode": {
    "name": "ipython",
    "version": 3
   },
   "file_extension": ".py",
   "mimetype": "text/x-python",
   "name": "python",
   "nbconvert_exporter": "python",
   "pygments_lexer": "ipython3",
   "version": "3.9.7"
  }
 },
 "nbformat": 4,
 "nbformat_minor": 5
}
